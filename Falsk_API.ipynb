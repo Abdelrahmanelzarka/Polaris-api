{
 "cells": [
  {
   "cell_type": "code",
   "execution_count": 1,
   "metadata": {},
   "outputs": [],
   "source": [
    "import warnings\n",
    "warnings.filterwarnings('ignore')"
   ]
  },
  {
   "cell_type": "code",
   "execution_count": 2,
   "metadata": {},
   "outputs": [],
   "source": [
    "from flask import Flask,request,render_template\n",
    "from Api_model import Prediction\n",
    "app = Flask(\"Prdection\")\n",
    "\n",
    "#pre = Prediction(\"pulsar.pkl\")\n"
   ]
  },
  {
   "cell_type": "code",
   "execution_count": 3,
   "metadata": {},
   "outputs": [],
   "source": [
    "@app.route(\"/\") ## page name \n",
    "def home():\n",
    "    return render_template(\"main.html\")"
   ]
  },
  {
   "cell_type": "code",
   "execution_count": 4,
   "metadata": {},
   "outputs": [],
   "source": [
    "@app.route(\"/pulsarPredict\" , methods = [\"POST\"]) ## page name \n",
    "def pulsarPredict():\n",
    "    pre = Prediction(\"pulsar.pkl\")\n",
    "    mip = min(max(float(request.form.get(\"mip\")),61.513672),166.466797)\n",
    "    stdip = min(max(float(request.form.get(\"stdip\")),29.436902),63.904423)\n",
    "    sip = min(max(float(request.form.get(\"sip\")),-1.791886),2.613147)\n",
    "    mc = min(max(float(request.form.get(\"mc\")),0.213211),10.667329)\n",
    "    ec = min(max(float(request.form.get(\"ec\")),-1.584232),18.115223)\n",
    "    \n",
    "    ans = pre.prediect([mip,stdip,sip,mc,ec])\n",
    "    if(ans[0]):\n",
    "        out = \"IS pulsar\"\n",
    "    else:\n",
    "        out = \"NOT pulsar\"\n",
    "    \n",
    "    data = {\"ans\":out}\n",
    "    return render_template(\"ans.html\", data=data)"
   ]
  },
  {
   "cell_type": "code",
   "execution_count": 5,
   "metadata": {},
   "outputs": [],
   "source": [
    "#starTypes\n",
    "@app.route(\"/StarPredict\" , methods = [\"POST\"]) ## page name \n",
    "def StarPredict():\n",
    "    pre = Prediction(\"starType.pkl\")\n",
    "    \n",
    "    k = float(request.form.get(\"k\"))\n",
    "    lo = float(request.form.get(\"lo\"))\n",
    "    ro = float(request.form.get(\"ro\"))\n",
    "    mv = float(request.form.get(\"mv\"))\n",
    "    sc = float(request.form.get(\"sc\"))\n",
    "    \n",
    "    ans = pre.prediect([mv,ro,lo,sc,k])\n",
    "    \n",
    "    if(ans[0] == 0):\n",
    "        out = \"Brown Dwarf\"\n",
    "    elif(ans[0] == 1):    \n",
    "        out = \"Red Dwarf\" \n",
    "    elif(ans[0] == 2):\n",
    "        out = \"White Dwarf\" \n",
    "    elif(ans[0] == 3):\n",
    "        out = \"Main Sequence\" \n",
    "    elif(ans[0] == 4):\n",
    "        out = \"Supergiant\" \n",
    "    elif(ans[0] == 5):\n",
    "        out = \"Hypergiant\" \n",
    "    \n",
    "    data = {\"ans\":out}\n",
    "    return render_template(\"ans.html\", data=data)"
   ]
  },
  {
   "cell_type": "code",
   "execution_count": 6,
   "metadata": {},
   "outputs": [],
   "source": [
    "@app.route(\"/pulsar\")\n",
    "def fun1():\n",
    "    return render_template(\"pulsar.html\")"
   ]
  },
  {
   "cell_type": "code",
   "execution_count": 7,
   "metadata": {},
   "outputs": [],
   "source": [
    "@app.route(\"/types\")\n",
    "def fun2():\n",
    "    return render_template(\"type.html\")"
   ]
  },
  {
   "cell_type": "code",
   "execution_count": null,
   "metadata": {},
   "outputs": [
    {
     "name": "stdout",
     "output_type": "stream",
     "text": [
      " * Serving Flask app \"Prdection\" (lazy loading)\n",
      " * Environment: production\n",
      "   WARNING: This is a development server. Do not use it in a production deployment.\n",
      "   Use a production WSGI server instead.\n",
      " * Debug mode: off\n"
     ]
    },
    {
     "name": "stderr",
     "output_type": "stream",
     "text": [
      " * Running on http://127.0.0.1:5000/ (Press CTRL+C to quit)\n",
      "127.0.0.1 - - [01/Oct/2022 14:24:08] \"\u001b[37mGET / HTTP/1.1\u001b[0m\" 200 -\n",
      "127.0.0.1 - - [01/Oct/2022 14:24:12] \"\u001b[37mGET / HTTP/1.1\u001b[0m\" 200 -\n",
      "127.0.0.1 - - [01/Oct/2022 14:24:17] \"\u001b[37mGET /pulsar HTTP/1.1\u001b[0m\" 200 -\n",
      "[2022-10-01 14:24:27,061] ERROR in app: Exception on /pulsarPredict [POST]\n",
      "Traceback (most recent call last):\n",
      "  File \"C:\\Users\\abdel\\anaconda3\\lib\\site-packages\\flask\\app.py\", line 2447, in wsgi_app\n",
      "    response = self.full_dispatch_request()\n",
      "  File \"C:\\Users\\abdel\\anaconda3\\lib\\site-packages\\flask\\app.py\", line 1952, in full_dispatch_request\n",
      "    rv = self.handle_user_exception(e)\n",
      "  File \"C:\\Users\\abdel\\anaconda3\\lib\\site-packages\\flask\\app.py\", line 1821, in handle_user_exception\n",
      "    reraise(exc_type, exc_value, tb)\n",
      "  File \"C:\\Users\\abdel\\anaconda3\\lib\\site-packages\\flask\\_compat.py\", line 39, in reraise\n",
      "    raise value\n",
      "  File \"C:\\Users\\abdel\\anaconda3\\lib\\site-packages\\flask\\app.py\", line 1950, in full_dispatch_request\n",
      "    rv = self.dispatch_request()\n",
      "  File \"C:\\Users\\abdel\\anaconda3\\lib\\site-packages\\flask\\app.py\", line 1936, in dispatch_request\n",
      "    return self.view_functions[rule.endpoint](**req.view_args)\n",
      "  File \"<ipython-input-4-c102afe97b07>\", line 3, in pulsarPredict\n",
      "    pre = Prediction(\"pulsar.pkl\")\n",
      "  File \"C:\\Users\\abdel\\Downloads\\Main (1)\\Main\\Api_model.py\", line 7, in __init__\n",
      "    self.clf  = pickle.load(open('./models/'+mod, 'rb'))\n",
      "ModuleNotFoundError: No module named 'xgboost'\n",
      "127.0.0.1 - - [01/Oct/2022 14:24:27] \"\u001b[35m\u001b[1mPOST /pulsarPredict HTTP/1.1\u001b[0m\" 500 -\n",
      "127.0.0.1 - - [01/Oct/2022 14:24:34] \"\u001b[37mGET /types HTTP/1.1\u001b[0m\" 200 -\n",
      "127.0.0.1 - - [01/Oct/2022 14:24:47] \"\u001b[37mPOST /StarPredict HTTP/1.1\u001b[0m\" 200 -\n"
     ]
    },
    {
     "name": "stdout",
     "output_type": "stream",
     "text": [
      "Data init Done\n"
     ]
    },
    {
     "name": "stderr",
     "output_type": "stream",
     "text": [
      "127.0.0.1 - - [01/Oct/2022 14:25:03] \"\u001b[37mGET /pulsar HTTP/1.1\u001b[0m\" 200 -\n",
      "[2022-10-01 14:25:16,347] ERROR in app: Exception on /pulsarPredict [POST]\n",
      "Traceback (most recent call last):\n",
      "  File \"C:\\Users\\abdel\\anaconda3\\lib\\site-packages\\flask\\app.py\", line 2447, in wsgi_app\n",
      "    response = self.full_dispatch_request()\n",
      "  File \"C:\\Users\\abdel\\anaconda3\\lib\\site-packages\\flask\\app.py\", line 1952, in full_dispatch_request\n",
      "    rv = self.handle_user_exception(e)\n",
      "  File \"C:\\Users\\abdel\\anaconda3\\lib\\site-packages\\flask\\app.py\", line 1821, in handle_user_exception\n",
      "    reraise(exc_type, exc_value, tb)\n",
      "  File \"C:\\Users\\abdel\\anaconda3\\lib\\site-packages\\flask\\_compat.py\", line 39, in reraise\n",
      "    raise value\n",
      "  File \"C:\\Users\\abdel\\anaconda3\\lib\\site-packages\\flask\\app.py\", line 1950, in full_dispatch_request\n",
      "    rv = self.dispatch_request()\n",
      "  File \"C:\\Users\\abdel\\anaconda3\\lib\\site-packages\\flask\\app.py\", line 1936, in dispatch_request\n",
      "    return self.view_functions[rule.endpoint](**req.view_args)\n",
      "  File \"<ipython-input-4-c102afe97b07>\", line 3, in pulsarPredict\n",
      "    pre = Prediction(\"pulsar.pkl\")\n",
      "  File \"C:\\Users\\abdel\\Downloads\\Main (1)\\Main\\Api_model.py\", line 7, in __init__\n",
      "    self.clf  = pickle.load(open('./models/'+mod, 'rb'))\n",
      "ModuleNotFoundError: No module named 'xgboost'\n",
      "127.0.0.1 - - [01/Oct/2022 14:25:16] \"\u001b[35m\u001b[1mPOST /pulsarPredict HTTP/1.1\u001b[0m\" 500 -\n",
      "[2022-10-01 14:25:39,538] ERROR in app: Exception on /pulsarPredict [POST]\n",
      "Traceback (most recent call last):\n",
      "  File \"C:\\Users\\abdel\\anaconda3\\lib\\site-packages\\flask\\app.py\", line 2447, in wsgi_app\n",
      "    response = self.full_dispatch_request()\n",
      "  File \"C:\\Users\\abdel\\anaconda3\\lib\\site-packages\\flask\\app.py\", line 1952, in full_dispatch_request\n",
      "    rv = self.handle_user_exception(e)\n",
      "  File \"C:\\Users\\abdel\\anaconda3\\lib\\site-packages\\flask\\app.py\", line 1821, in handle_user_exception\n",
      "    reraise(exc_type, exc_value, tb)\n",
      "  File \"C:\\Users\\abdel\\anaconda3\\lib\\site-packages\\flask\\_compat.py\", line 39, in reraise\n",
      "    raise value\n",
      "  File \"C:\\Users\\abdel\\anaconda3\\lib\\site-packages\\flask\\app.py\", line 1950, in full_dispatch_request\n",
      "    rv = self.dispatch_request()\n",
      "  File \"C:\\Users\\abdel\\anaconda3\\lib\\site-packages\\flask\\app.py\", line 1936, in dispatch_request\n",
      "    return self.view_functions[rule.endpoint](**req.view_args)\n",
      "  File \"<ipython-input-4-c102afe97b07>\", line 3, in pulsarPredict\n",
      "    pre = Prediction(\"pulsar.pkl\")\n",
      "  File \"C:\\Users\\abdel\\Downloads\\Main (1)\\Main\\Api_model.py\", line 7, in __init__\n",
      "    self.clf  = pickle.load(open('./models/'+mod, 'rb'))\n",
      "ModuleNotFoundError: No module named 'xgboost'\n",
      "127.0.0.1 - - [01/Oct/2022 14:25:39] \"\u001b[35m\u001b[1mPOST /pulsarPredict HTTP/1.1\u001b[0m\" 500 -\n",
      "[2022-10-01 14:28:44,245] ERROR in app: Exception on /pulsarPredict [POST]\n",
      "Traceback (most recent call last):\n",
      "  File \"C:\\Users\\abdel\\anaconda3\\lib\\site-packages\\flask\\app.py\", line 2447, in wsgi_app\n",
      "    response = self.full_dispatch_request()\n",
      "  File \"C:\\Users\\abdel\\anaconda3\\lib\\site-packages\\flask\\app.py\", line 1952, in full_dispatch_request\n",
      "    rv = self.handle_user_exception(e)\n",
      "  File \"C:\\Users\\abdel\\anaconda3\\lib\\site-packages\\flask\\app.py\", line 1821, in handle_user_exception\n",
      "    reraise(exc_type, exc_value, tb)\n",
      "  File \"C:\\Users\\abdel\\anaconda3\\lib\\site-packages\\flask\\_compat.py\", line 39, in reraise\n",
      "    raise value\n",
      "  File \"C:\\Users\\abdel\\anaconda3\\lib\\site-packages\\flask\\app.py\", line 1950, in full_dispatch_request\n",
      "    rv = self.dispatch_request()\n",
      "  File \"C:\\Users\\abdel\\anaconda3\\lib\\site-packages\\flask\\app.py\", line 1936, in dispatch_request\n",
      "    return self.view_functions[rule.endpoint](**req.view_args)\n",
      "  File \"<ipython-input-4-c102afe97b07>\", line 3, in pulsarPredict\n",
      "    pre = Prediction(\"pulsar.pkl\")\n",
      "  File \"C:\\Users\\abdel\\Downloads\\Main (1)\\Main\\Api_model.py\", line 7, in __init__\n",
      "    self.clf  = pickle.load(open('./models/'+mod, 'rb'))\n",
      "ModuleNotFoundError: No module named 'xgboost'\n",
      "127.0.0.1 - - [01/Oct/2022 14:28:44] \"\u001b[35m\u001b[1mPOST /pulsarPredict HTTP/1.1\u001b[0m\" 500 -\n",
      "[2022-10-01 14:28:47,940] ERROR in app: Exception on /pulsarPredict [POST]\n",
      "Traceback (most recent call last):\n",
      "  File \"C:\\Users\\abdel\\anaconda3\\lib\\site-packages\\flask\\app.py\", line 2447, in wsgi_app\n",
      "    response = self.full_dispatch_request()\n",
      "  File \"C:\\Users\\abdel\\anaconda3\\lib\\site-packages\\flask\\app.py\", line 1952, in full_dispatch_request\n",
      "    rv = self.handle_user_exception(e)\n",
      "  File \"C:\\Users\\abdel\\anaconda3\\lib\\site-packages\\flask\\app.py\", line 1821, in handle_user_exception\n",
      "    reraise(exc_type, exc_value, tb)\n",
      "  File \"C:\\Users\\abdel\\anaconda3\\lib\\site-packages\\flask\\_compat.py\", line 39, in reraise\n",
      "    raise value\n",
      "  File \"C:\\Users\\abdel\\anaconda3\\lib\\site-packages\\flask\\app.py\", line 1950, in full_dispatch_request\n",
      "    rv = self.dispatch_request()\n",
      "  File \"C:\\Users\\abdel\\anaconda3\\lib\\site-packages\\flask\\app.py\", line 1936, in dispatch_request\n",
      "    return self.view_functions[rule.endpoint](**req.view_args)\n",
      "  File \"<ipython-input-4-c102afe97b07>\", line 3, in pulsarPredict\n",
      "    pre = Prediction(\"pulsar.pkl\")\n",
      "  File \"C:\\Users\\abdel\\Downloads\\Main (1)\\Main\\Api_model.py\", line 7, in __init__\n",
      "    self.clf  = pickle.load(open('./models/'+mod, 'rb'))\n",
      "ModuleNotFoundError: No module named 'xgboost'\n",
      "127.0.0.1 - - [01/Oct/2022 14:28:47] \"\u001b[35m\u001b[1mPOST /pulsarPredict HTTP/1.1\u001b[0m\" 500 -\n",
      "127.0.0.1 - - [01/Oct/2022 14:29:40] \"\u001b[37mGET /types HTTP/1.1\u001b[0m\" 200 -\n",
      "127.0.0.1 - - [01/Oct/2022 14:29:47] \"\u001b[37mPOST /StarPredict HTTP/1.1\u001b[0m\" 200 -\n"
     ]
    },
    {
     "name": "stdout",
     "output_type": "stream",
     "text": [
      "Data init Done\n"
     ]
    },
    {
     "name": "stderr",
     "output_type": "stream",
     "text": [
      "127.0.0.1 - - [01/Oct/2022 14:29:51] \"\u001b[31m\u001b[1mGET /StarPredict HTTP/1.1\u001b[0m\" 405 -\n",
      "127.0.0.1 - - [01/Oct/2022 14:30:02] \"\u001b[37mPOST /StarPredict HTTP/1.1\u001b[0m\" 200 -\n"
     ]
    },
    {
     "name": "stdout",
     "output_type": "stream",
     "text": [
      "Data init Done\n"
     ]
    },
    {
     "name": "stderr",
     "output_type": "stream",
     "text": [
      "127.0.0.1 - - [01/Oct/2022 14:30:15] \"\u001b[37mPOST /StarPredict HTTP/1.1\u001b[0m\" 200 -\n"
     ]
    },
    {
     "name": "stdout",
     "output_type": "stream",
     "text": [
      "Data init Done\n"
     ]
    },
    {
     "name": "stderr",
     "output_type": "stream",
     "text": [
      "127.0.0.1 - - [01/Oct/2022 14:30:34] \"\u001b[37mPOST /StarPredict HTTP/1.1\u001b[0m\" 200 -\n"
     ]
    },
    {
     "name": "stdout",
     "output_type": "stream",
     "text": [
      "Data init Done\n"
     ]
    },
    {
     "name": "stderr",
     "output_type": "stream",
     "text": [
      "127.0.0.1 - - [01/Oct/2022 14:30:41] \"\u001b[37mGET /pulsar HTTP/1.1\u001b[0m\" 200 -\n"
     ]
    }
   ],
   "source": [
    "app.run()"
   ]
  },
  {
   "cell_type": "code",
   "execution_count": null,
   "metadata": {},
   "outputs": [],
   "source": []
  },
  {
   "cell_type": "code",
   "execution_count": null,
   "metadata": {},
   "outputs": [],
   "source": []
  }
 ],
 "metadata": {
  "kernelspec": {
   "display_name": "Python 3",
   "language": "python",
   "name": "python3"
  },
  "language_info": {
   "codemirror_mode": {
    "name": "ipython",
    "version": 3
   },
   "file_extension": ".py",
   "mimetype": "text/x-python",
   "name": "python",
   "nbconvert_exporter": "python",
   "pygments_lexer": "ipython3",
   "version": "3.8.8"
  },
  "vscode": {
   "interpreter": {
    "hash": "06b2481d969386463e7c17424d5745a4bdc9dc05ae301f8dd12380853e6ef018"
   }
  }
 },
 "nbformat": 4,
 "nbformat_minor": 4
}
